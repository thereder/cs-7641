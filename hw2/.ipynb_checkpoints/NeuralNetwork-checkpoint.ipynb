{
 "cells": [
  {
   "cell_type": "code",
   "execution_count": 1,
   "metadata": {},
   "outputs": [
    {
     "name": "stderr",
     "output_type": "stream",
     "text": [
      "/Users/hongzheli/miniconda3/envs/ml/lib/python3.7/site-packages/sklearn/externals/six.py:31: FutureWarning: The module is deprecated in version 0.21 and will be removed in version 0.23 since we've dropped support for Python 2.7. Please rely on the official version of six (https://pypi.org/project/six/).\n",
      "  \"(https://pypi.org/project/six/).\", FutureWarning)\n"
     ]
    }
   ],
   "source": [
    "import pandas as pd\n",
    "import numpy as np\n",
    "import matplotlib.pyplot as plt\n",
    "import seaborn as sns\n",
    "\n",
    "from sklearn.preprocessing import MinMaxScaler\n",
    "from sklearn.model_selection import train_test_split\n",
    "\n",
    "\n",
    "from sklearn.neural_network import MLPClassifier\n",
    "\n",
    "from sklearn.metrics import classification_report\n",
    "from sklearn.metrics import f1_score\n",
    "from sklearn.metrics import accuracy_score\n",
    "from sklearn.metrics import recall_score\n",
    "\n",
    "import time\n",
    "\n",
    "import warnings\n",
    "import mlrose\n",
    "from mlrose_hiive.runners import NNGSRunner\n",
    "import mlrose_hiive\n",
    "from mlrose_hiive import ArithDecay\n",
    "warnings.filterwarnings(\"ignore\")\n",
    "%matplotlib inline"
   ]
  },
  {
   "cell_type": "code",
   "execution_count": 3,
   "metadata": {},
   "outputs": [],
   "source": [
    "df = pd.read_csv('../data/data.csv', sep=',')\n",
    "# df = pd.read_csv('../../../cs-7641/data/data.csv', sep=',')"
   ]
  },
  {
   "cell_type": "code",
   "execution_count": 4,
   "metadata": {},
   "outputs": [
    {
     "data": {
      "text/html": [
       "<div>\n",
       "<style scoped>\n",
       "    .dataframe tbody tr th:only-of-type {\n",
       "        vertical-align: middle;\n",
       "    }\n",
       "\n",
       "    .dataframe tbody tr th {\n",
       "        vertical-align: top;\n",
       "    }\n",
       "\n",
       "    .dataframe thead th {\n",
       "        text-align: right;\n",
       "    }\n",
       "</style>\n",
       "<table border=\"1\" class=\"dataframe\">\n",
       "  <thead>\n",
       "    <tr style=\"text-align: right;\">\n",
       "      <th></th>\n",
       "      <th>id</th>\n",
       "      <th>diagnosis</th>\n",
       "      <th>radius_mean</th>\n",
       "      <th>texture_mean</th>\n",
       "      <th>perimeter_mean</th>\n",
       "      <th>area_mean</th>\n",
       "      <th>smoothness_mean</th>\n",
       "      <th>compactness_mean</th>\n",
       "      <th>concavity_mean</th>\n",
       "      <th>concave points_mean</th>\n",
       "      <th>...</th>\n",
       "      <th>texture_worst</th>\n",
       "      <th>perimeter_worst</th>\n",
       "      <th>area_worst</th>\n",
       "      <th>smoothness_worst</th>\n",
       "      <th>compactness_worst</th>\n",
       "      <th>concavity_worst</th>\n",
       "      <th>concave points_worst</th>\n",
       "      <th>symmetry_worst</th>\n",
       "      <th>fractal_dimension_worst</th>\n",
       "      <th>Unnamed: 32</th>\n",
       "    </tr>\n",
       "  </thead>\n",
       "  <tbody>\n",
       "    <tr>\n",
       "      <th>0</th>\n",
       "      <td>842302</td>\n",
       "      <td>M</td>\n",
       "      <td>17.99</td>\n",
       "      <td>10.38</td>\n",
       "      <td>122.80</td>\n",
       "      <td>1001.0</td>\n",
       "      <td>0.11840</td>\n",
       "      <td>0.27760</td>\n",
       "      <td>0.3001</td>\n",
       "      <td>0.14710</td>\n",
       "      <td>...</td>\n",
       "      <td>17.33</td>\n",
       "      <td>184.60</td>\n",
       "      <td>2019.0</td>\n",
       "      <td>0.1622</td>\n",
       "      <td>0.6656</td>\n",
       "      <td>0.7119</td>\n",
       "      <td>0.2654</td>\n",
       "      <td>0.4601</td>\n",
       "      <td>0.11890</td>\n",
       "      <td>NaN</td>\n",
       "    </tr>\n",
       "    <tr>\n",
       "      <th>1</th>\n",
       "      <td>842517</td>\n",
       "      <td>M</td>\n",
       "      <td>20.57</td>\n",
       "      <td>17.77</td>\n",
       "      <td>132.90</td>\n",
       "      <td>1326.0</td>\n",
       "      <td>0.08474</td>\n",
       "      <td>0.07864</td>\n",
       "      <td>0.0869</td>\n",
       "      <td>0.07017</td>\n",
       "      <td>...</td>\n",
       "      <td>23.41</td>\n",
       "      <td>158.80</td>\n",
       "      <td>1956.0</td>\n",
       "      <td>0.1238</td>\n",
       "      <td>0.1866</td>\n",
       "      <td>0.2416</td>\n",
       "      <td>0.1860</td>\n",
       "      <td>0.2750</td>\n",
       "      <td>0.08902</td>\n",
       "      <td>NaN</td>\n",
       "    </tr>\n",
       "    <tr>\n",
       "      <th>2</th>\n",
       "      <td>84300903</td>\n",
       "      <td>M</td>\n",
       "      <td>19.69</td>\n",
       "      <td>21.25</td>\n",
       "      <td>130.00</td>\n",
       "      <td>1203.0</td>\n",
       "      <td>0.10960</td>\n",
       "      <td>0.15990</td>\n",
       "      <td>0.1974</td>\n",
       "      <td>0.12790</td>\n",
       "      <td>...</td>\n",
       "      <td>25.53</td>\n",
       "      <td>152.50</td>\n",
       "      <td>1709.0</td>\n",
       "      <td>0.1444</td>\n",
       "      <td>0.4245</td>\n",
       "      <td>0.4504</td>\n",
       "      <td>0.2430</td>\n",
       "      <td>0.3613</td>\n",
       "      <td>0.08758</td>\n",
       "      <td>NaN</td>\n",
       "    </tr>\n",
       "    <tr>\n",
       "      <th>3</th>\n",
       "      <td>84348301</td>\n",
       "      <td>M</td>\n",
       "      <td>11.42</td>\n",
       "      <td>20.38</td>\n",
       "      <td>77.58</td>\n",
       "      <td>386.1</td>\n",
       "      <td>0.14250</td>\n",
       "      <td>0.28390</td>\n",
       "      <td>0.2414</td>\n",
       "      <td>0.10520</td>\n",
       "      <td>...</td>\n",
       "      <td>26.50</td>\n",
       "      <td>98.87</td>\n",
       "      <td>567.7</td>\n",
       "      <td>0.2098</td>\n",
       "      <td>0.8663</td>\n",
       "      <td>0.6869</td>\n",
       "      <td>0.2575</td>\n",
       "      <td>0.6638</td>\n",
       "      <td>0.17300</td>\n",
       "      <td>NaN</td>\n",
       "    </tr>\n",
       "    <tr>\n",
       "      <th>4</th>\n",
       "      <td>84358402</td>\n",
       "      <td>M</td>\n",
       "      <td>20.29</td>\n",
       "      <td>14.34</td>\n",
       "      <td>135.10</td>\n",
       "      <td>1297.0</td>\n",
       "      <td>0.10030</td>\n",
       "      <td>0.13280</td>\n",
       "      <td>0.1980</td>\n",
       "      <td>0.10430</td>\n",
       "      <td>...</td>\n",
       "      <td>16.67</td>\n",
       "      <td>152.20</td>\n",
       "      <td>1575.0</td>\n",
       "      <td>0.1374</td>\n",
       "      <td>0.2050</td>\n",
       "      <td>0.4000</td>\n",
       "      <td>0.1625</td>\n",
       "      <td>0.2364</td>\n",
       "      <td>0.07678</td>\n",
       "      <td>NaN</td>\n",
       "    </tr>\n",
       "  </tbody>\n",
       "</table>\n",
       "<p>5 rows × 33 columns</p>\n",
       "</div>"
      ],
      "text/plain": [
       "         id diagnosis  radius_mean  texture_mean  perimeter_mean  area_mean  \\\n",
       "0    842302         M        17.99         10.38          122.80     1001.0   \n",
       "1    842517         M        20.57         17.77          132.90     1326.0   \n",
       "2  84300903         M        19.69         21.25          130.00     1203.0   \n",
       "3  84348301         M        11.42         20.38           77.58      386.1   \n",
       "4  84358402         M        20.29         14.34          135.10     1297.0   \n",
       "\n",
       "   smoothness_mean  compactness_mean  concavity_mean  concave points_mean  \\\n",
       "0          0.11840           0.27760          0.3001              0.14710   \n",
       "1          0.08474           0.07864          0.0869              0.07017   \n",
       "2          0.10960           0.15990          0.1974              0.12790   \n",
       "3          0.14250           0.28390          0.2414              0.10520   \n",
       "4          0.10030           0.13280          0.1980              0.10430   \n",
       "\n",
       "   ...  texture_worst  perimeter_worst  area_worst  smoothness_worst  \\\n",
       "0  ...          17.33           184.60      2019.0            0.1622   \n",
       "1  ...          23.41           158.80      1956.0            0.1238   \n",
       "2  ...          25.53           152.50      1709.0            0.1444   \n",
       "3  ...          26.50            98.87       567.7            0.2098   \n",
       "4  ...          16.67           152.20      1575.0            0.1374   \n",
       "\n",
       "   compactness_worst  concavity_worst  concave points_worst  symmetry_worst  \\\n",
       "0             0.6656           0.7119                0.2654          0.4601   \n",
       "1             0.1866           0.2416                0.1860          0.2750   \n",
       "2             0.4245           0.4504                0.2430          0.3613   \n",
       "3             0.8663           0.6869                0.2575          0.6638   \n",
       "4             0.2050           0.4000                0.1625          0.2364   \n",
       "\n",
       "   fractal_dimension_worst  Unnamed: 32  \n",
       "0                  0.11890          NaN  \n",
       "1                  0.08902          NaN  \n",
       "2                  0.08758          NaN  \n",
       "3                  0.17300          NaN  \n",
       "4                  0.07678          NaN  \n",
       "\n",
       "[5 rows x 33 columns]"
      ]
     },
     "execution_count": 4,
     "metadata": {},
     "output_type": "execute_result"
    }
   ],
   "source": [
    "df.head()"
   ]
  },
  {
   "cell_type": "code",
   "execution_count": 88,
   "metadata": {},
   "outputs": [],
   "source": [
    "df.drop(df.columns[-1], axis=1, inplace=True)\n",
    "df.drop('id', axis=1, inplace=True)"
   ]
  },
  {
   "cell_type": "code",
   "execution_count": 89,
   "metadata": {},
   "outputs": [
    {
     "data": {
      "text/plain": [
       "0    357\n",
       "1    212\n",
       "Name: diagnosis, dtype: int64"
      ]
     },
     "execution_count": 89,
     "metadata": {},
     "output_type": "execute_result"
    }
   ],
   "source": [
    "label = 'diagnosis'\n",
    "df[label] = df[label].map({'M':1, 'B':0})\n",
    "df[label].value_counts()"
   ]
  },
  {
   "cell_type": "code",
   "execution_count": 90,
   "metadata": {},
   "outputs": [],
   "source": [
    "X_train, X_test, y_train, y_test = train_test_split(df.drop(label, axis=1), \n",
    "                                                    df.loc[:,label], \n",
    "                                                    test_size=0.2, \n",
    "                                                    random_state=123,\n",
    "                                                    stratify=df.loc[:,label])"
   ]
  },
  {
   "cell_type": "code",
   "execution_count": 91,
   "metadata": {},
   "outputs": [],
   "source": [
    "scaler = MinMaxScaler()\n",
    "scaler.fit(X_train)\n",
    "X_train = pd.DataFrame(scaler.transform(X_train), \n",
    "                 columns=X_train.columns, \n",
    "                 index=X_train.index)\n",
    "\n",
    "X_test = pd.DataFrame(scaler.transform(X_test), \n",
    "                 columns=X_test.columns, \n",
    "                 index=X_test.index)"
   ]
  },
  {
   "cell_type": "code",
   "execution_count": 92,
   "metadata": {},
   "outputs": [],
   "source": [
    "train_time_dict = {}\n",
    "\n",
    "train_accuracy_dict = {}\n",
    "test_accuracy_dict = {}\n",
    "\n",
    "train_recall_dict = {}\n",
    "test_recall_dict = {}\n",
    "\n"
   ]
  },
  {
   "cell_type": "markdown",
   "metadata": {},
   "source": [
    "# Benchmark using Backprop"
   ]
  },
  {
   "cell_type": "code",
   "execution_count": 93,
   "metadata": {},
   "outputs": [],
   "source": [
    "model_name = 'Backprop'\n",
    "\n",
    "nn = MLPClassifier()\n",
    "\n",
    "t_start = time.time()\n",
    "nn.fit(X_train, y_train)\n",
    "t_end = time.time()\n",
    "train_time_dict[model_name] = round(t_end - t_start, 4)\n"
   ]
  },
  {
   "cell_type": "code",
   "execution_count": 94,
   "metadata": {},
   "outputs": [
    {
     "name": "stdout",
     "output_type": "stream",
     "text": [
      "              precision    recall  f1-score   support\n",
      "\n",
      "           0       0.99      0.96      0.97        72\n",
      "           1       0.93      0.98      0.95        42\n",
      "\n",
      "    accuracy                           0.96       114\n",
      "   macro avg       0.96      0.97      0.96       114\n",
      "weighted avg       0.97      0.96      0.97       114\n",
      "\n"
     ]
    }
   ],
   "source": [
    "\n",
    "y_pred_train = nn.predict(X_train)\n",
    "y_pred_test = nn.predict(X_test)\n",
    "\n",
    "train_accuracy_dict[model_name] = round(accuracy_score(y_train, y_pred_train), 4)\n",
    "train_recall_dict[model_name] = round(recall_score(y_train, y_pred_train), 4)\n",
    "\n",
    "test_accuracy_dict[model_name] = round(accuracy_score(y_test, y_pred_test), 4)\n",
    "test_recall_dict[model_name] = round(recall_score(y_test, y_pred_test), 4)\n",
    "\n",
    "print(classification_report(y_test, y_pred_test))"
   ]
  },
  {
   "cell_type": "code",
   "execution_count": 95,
   "metadata": {},
   "outputs": [],
   "source": [
    "model_name = 'RHC'\n",
    "np.random.seed(123)\n",
    "# clf_hill = mlrose.NeuralNetwork(algorithm = 'random_hill_climb', \n",
    "#                                 max_iters=1000, bias = True, is_classifier = True, \n",
    "#                                 learning_rate = 0.5, early_stopping = True, clip_max = 5, \n",
    "#                                 max_attempts = 100)\n",
    "rhc = mlrose.NeuralNetwork(algorithm = 'random_hill_climb', learning_rate=0.5)\n",
    "t_start = time.time()\n",
    "rhc.fit(X_train, y_train)\n",
    "t_end = time.time()\n",
    "train_time_dict[model_name] = round(t_end - t_start, 4)\n",
    "\n"
   ]
  },
  {
   "cell_type": "code",
   "execution_count": 96,
   "metadata": {},
   "outputs": [
    {
     "name": "stdout",
     "output_type": "stream",
     "text": [
      "              precision    recall  f1-score   support\n",
      "\n",
      "           0       0.96      0.90      0.93        72\n",
      "           1       0.85      0.93      0.89        42\n",
      "\n",
      "    accuracy                           0.91       114\n",
      "   macro avg       0.90      0.92      0.91       114\n",
      "weighted avg       0.92      0.91      0.91       114\n",
      "\n"
     ]
    }
   ],
   "source": [
    "\n",
    "y_pred_train = rhc.predict(X_train)\n",
    "y_pred_test = rhc.predict(X_test)\n",
    "\n",
    "train_accuracy_dict[model_name] = round(accuracy_score(y_train, y_pred_train), 4)\n",
    "train_recall_dict[model_name] = round(recall_score(y_train, y_pred_train), 4)\n",
    "\n",
    "\n",
    "test_accuracy_dict[model_name] = round(accuracy_score(y_test, y_pred_test), 4)\n",
    "test_recall_dict[model_name] = round(recall_score(y_test, y_pred_test), 4)\n",
    "\n",
    "print(classification_report(y_test, y_pred_test))"
   ]
  },
  {
   "cell_type": "code",
   "execution_count": 97,
   "metadata": {},
   "outputs": [],
   "source": [
    "model_name = 'SA'\n",
    "np.random.seed(123)\n",
    "# clf_hill = mlrose.NeuralNetwork(algorithm = 'random_hill_climb', \n",
    "#                                 max_iters=1000, bias = True, is_classifier = True, \n",
    "#                                 learning_rate = 0.5, early_stopping = True, clip_max = 5, \n",
    "#                                 max_attempts = 100)\n",
    "sa = mlrose.NeuralNetwork(algorithm = 'simulated_annealing', learning_rate=0.5)\n",
    "t_start = time.time()\n",
    "sa.fit(X_train, y_train)\n",
    "t_end = time.time()\n",
    "train_time_dict[model_name] = round(t_end - t_start, 4)\n",
    "\n"
   ]
  },
  {
   "cell_type": "code",
   "execution_count": 98,
   "metadata": {},
   "outputs": [
    {
     "name": "stdout",
     "output_type": "stream",
     "text": [
      "              precision    recall  f1-score   support\n",
      "\n",
      "           0       0.76      0.81      0.78        72\n",
      "           1       0.63      0.57      0.60        42\n",
      "\n",
      "    accuracy                           0.72       114\n",
      "   macro avg       0.70      0.69      0.69       114\n",
      "weighted avg       0.71      0.72      0.72       114\n",
      "\n"
     ]
    }
   ],
   "source": [
    "\n",
    "y_pred_train = sa.predict(X_train)\n",
    "y_pred_test = sa.predict(X_test)\n",
    "\n",
    "train_accuracy_dict[model_name] = round(accuracy_score(y_train, y_pred_train), 4)\n",
    "train_recall_dict[model_name] = round(recall_score(y_train, y_pred_train), 4)\n",
    "\n",
    "\n",
    "test_accuracy_dict[model_name] = round(accuracy_score(y_test, y_pred_test), 4)\n",
    "test_recall_dict[model_name] = round(recall_score(y_test, y_pred_test), 4)\n",
    "\n",
    "print(classification_report(y_test, y_pred_test))"
   ]
  },
  {
   "cell_type": "code",
   "execution_count": 99,
   "metadata": {},
   "outputs": [],
   "source": [
    "model_name = 'GA'\n",
    "np.random.seed(123)\n",
    "# clf_hill = mlrose.NeuralNetwork(algorithm = 'random_hill_climb', \n",
    "#                                 max_iters=1000, bias = True, is_classifier = True, \n",
    "#                                 learning_rate = 0.5, early_stopping = True, clip_max = 5, \n",
    "#                                 max_attempts = 100)\n",
    "ga = mlrose.NeuralNetwork(algorithm = 'genetic_alg', learning_rate=0.5)\n",
    "t_start = time.time()\n",
    "ga.fit(X_train, y_train)\n",
    "t_end = time.time()\n",
    "train_time_dict[model_name] = round(t_end - t_start, 4)\n",
    "\n"
   ]
  },
  {
   "cell_type": "code",
   "execution_count": 100,
   "metadata": {},
   "outputs": [
    {
     "name": "stdout",
     "output_type": "stream",
     "text": [
      "              precision    recall  f1-score   support\n",
      "\n",
      "           0       0.85      0.94      0.89        72\n",
      "           1       0.88      0.71      0.79        42\n",
      "\n",
      "    accuracy                           0.86       114\n",
      "   macro avg       0.87      0.83      0.84       114\n",
      "weighted avg       0.86      0.86      0.86       114\n",
      "\n"
     ]
    }
   ],
   "source": [
    "\n",
    "y_pred_train = ga.predict(X_train)\n",
    "y_pred_test = ga.predict(X_test)\n",
    "\n",
    "train_accuracy_dict[model_name] = round(accuracy_score(y_train, y_pred_train), 4)\n",
    "train_recall_dict[model_name] = round(recall_score(y_train, y_pred_train), 4)\n",
    "\n",
    "test_accuracy_dict[model_name] = round(accuracy_score(y_test, y_pred_test), 4)\n",
    "test_recall_dict[model_name] = round(recall_score(y_test, y_pred_test), 4)\n",
    "\n",
    "print(classification_report(y_test, y_pred_test))"
   ]
  },
  {
   "cell_type": "code",
   "execution_count": 101,
   "metadata": {},
   "outputs": [
    {
     "data": {
      "text/plain": [
       "{'Backprop': 0.9824, 'RHC': 0.9253, 'SA': 0.7385, 'GA': 0.9165}"
      ]
     },
     "execution_count": 101,
     "metadata": {},
     "output_type": "execute_result"
    }
   ],
   "source": [
    "train_accuracy_dict"
   ]
  },
  {
   "cell_type": "code",
   "execution_count": 102,
   "metadata": {},
   "outputs": [
    {
     "data": {
      "text/plain": [
       "{'Backprop': 0.9647, 'RHC': 0.9118, 'SA': 0.5647, 'GA': 0.7941}"
      ]
     },
     "execution_count": 102,
     "metadata": {},
     "output_type": "execute_result"
    }
   ],
   "source": [
    "train_recall_dict"
   ]
  },
  {
   "cell_type": "code",
   "execution_count": 103,
   "metadata": {},
   "outputs": [
    {
     "data": {
      "text/plain": [
       "{'Backprop': 0.9649, 'RHC': 0.9123, 'SA': 0.7193, 'GA': 0.8596}"
      ]
     },
     "execution_count": 103,
     "metadata": {},
     "output_type": "execute_result"
    }
   ],
   "source": [
    "test_accuracy_dict"
   ]
  },
  {
   "cell_type": "code",
   "execution_count": 104,
   "metadata": {},
   "outputs": [
    {
     "data": {
      "text/plain": [
       "{'Backprop': 0.9762, 'RHC': 0.9286, 'SA': 0.5714, 'GA': 0.7143}"
      ]
     },
     "execution_count": 104,
     "metadata": {},
     "output_type": "execute_result"
    }
   ],
   "source": [
    "test_recall_dict"
   ]
  },
  {
   "cell_type": "code",
   "execution_count": 105,
   "metadata": {},
   "outputs": [
    {
     "data": {
      "text/plain": [
       "{'Backprop': 0.7865, 'RHC': 0.2184, 'SA': 0.2538, 'GA': 21.6215}"
      ]
     },
     "execution_count": 105,
     "metadata": {},
     "output_type": "execute_result"
    }
   ],
   "source": [
    "train_time_dict"
   ]
  },
  {
   "cell_type": "code",
   "execution_count": 124,
   "metadata": {},
   "outputs": [],
   "source": [
    "columns = ['Algorithm', 'train/test', 'Recall', 'Accuracy']\n",
    "columns2 = ['Algorithm', 'Time']\n",
    "df_plot_train = pd.DataFrame(columns=columns)\n",
    "df_plot_test = pd.DataFrame(columns=columns)\n",
    "df_plot_time = pd.DataFrame(columns=columns2)\n",
    "for alg in train_accuracy_dict.keys():\n",
    "    df_temp = pd.DataFrame([[alg, 'train', train_recall_dict[alg], train_accuracy_dict[alg]]], columns = columns)\n",
    "    df_plot_train = pd.concat([df_plot_train, df_temp])\n",
    "    \n",
    "for alg in train_accuracy_dict.keys():\n",
    "    df_temp = pd.DataFrame([[alg, 'test', test_recall_dict[alg], test_accuracy_dict[alg]]], columns = columns)\n",
    "    df_plot_test = pd.concat([df_plot_test, df_temp])\n",
    "\n",
    "for alg in train_time_dict.keys():\n",
    "    df_temp = pd.DataFrame([[alg, train_time_dict[alg]]], columns = columns2)\n",
    "    df_plot_time = pd.concat([df_plot_time, df_temp])\n",
    "    \n",
    "df_plot = pd.concat([df_plot_train, df_plot_test])"
   ]
  },
  {
   "cell_type": "code",
   "execution_count": 125,
   "metadata": {},
   "outputs": [
    {
     "data": {
      "text/plain": [
       "Text(0.5, 1.0, 'Recall comparison')"
      ]
     },
     "execution_count": 125,
     "metadata": {},
     "output_type": "execute_result"
    },
    {
     "data": {
      "image/png": "[encoded data removed]",
      "text/plain": [
       "<Figure size 720x432 with 1 Axes>"
      ]
     },
     "metadata": {
      "needs_background": "light"
     },
     "output_type": "display_data"
    }
   ],
   "source": [
    "plt.figure(figsize=(10,6))\n",
    "ax = sns.barplot(x='Algorithm', y='Recall', data=df_plot, hue='train/test')\n",
    "plt.title('Recall comparison')"
   ]
  },
  {
   "cell_type": "code",
   "execution_count": 126,
   "metadata": {},
   "outputs": [
    {
     "data": {
      "text/plain": [
       "Text(0.5, 1.0, 'Accuracy comparison')"
      ]
     },
     "execution_count": 126,
     "metadata": {},
     "output_type": "execute_result"
    },
    {
     "data": {
      "image/png": "[encoded data removed]",
      "text/plain": [
       "<Figure size 720x432 with 1 Axes>"
      ]
     },
     "metadata": {
      "needs_background": "light"
     },
     "output_type": "display_data"
    }
   ],
   "source": [
    "plt.figure(figsize=(10,6))\n",
    "ax = sns.barplot(x='Algorithm', y='Accuracy', data=df_plot, hue='train/test')\n",
    "plt.title('Accuracy comparison')"
   ]
  },
  {
   "cell_type": "code",
   "execution_count": 127,
   "metadata": {},
   "outputs": [
    {
     "data": {
      "text/html": [
       "<div>\n",
       "<style scoped>\n",
       "    .dataframe tbody tr th:only-of-type {\n",
       "        vertical-align: middle;\n",
       "    }\n",
       "\n",
       "    .dataframe tbody tr th {\n",
       "        vertical-align: top;\n",
       "    }\n",
       "\n",
       "    .dataframe thead th {\n",
       "        text-align: right;\n",
       "    }\n",
       "</style>\n",
       "<table border=\"1\" class=\"dataframe\">\n",
       "  <thead>\n",
       "    <tr style=\"text-align: right;\">\n",
       "      <th></th>\n",
       "      <th>Algorithm</th>\n",
       "      <th>Time</th>\n",
       "    </tr>\n",
       "  </thead>\n",
       "  <tbody>\n",
       "    <tr>\n",
       "      <th>0</th>\n",
       "      <td>Backprop</td>\n",
       "      <td>0.7865</td>\n",
       "    </tr>\n",
       "    <tr>\n",
       "      <th>0</th>\n",
       "      <td>RHC</td>\n",
       "      <td>0.2184</td>\n",
       "    </tr>\n",
       "    <tr>\n",
       "      <th>0</th>\n",
       "      <td>SA</td>\n",
       "      <td>0.2538</td>\n",
       "    </tr>\n",
       "    <tr>\n",
       "      <th>0</th>\n",
       "      <td>GA</td>\n",
       "      <td>21.6215</td>\n",
       "    </tr>\n",
       "  </tbody>\n",
       "</table>\n",
       "</div>"
      ],
      "text/plain": [
       "  Algorithm     Time\n",
       "0  Backprop   0.7865\n",
       "0       RHC   0.2184\n",
       "0        SA   0.2538\n",
       "0        GA  21.6215"
      ]
     },
     "execution_count": 127,
     "metadata": {},
     "output_type": "execute_result"
    }
   ],
   "source": [
    "df_plot_time"
   ]
  },
  {
   "cell_type": "code",
   "execution_count": null,
   "metadata": {},
   "outputs": [],
   "source": []
  },
  {
   "cell_type": "code",
   "execution_count": 134,
   "metadata": {},
   "outputs": [
    {
     "name": "stdout",
     "output_type": "stream",
     "text": [
      "Fitting 5 folds for each of 4 candidates, totalling 20 fits\n"
     ]
    },
    {
     "name": "stderr",
     "output_type": "stream",
     "text": [
      "[Parallel(n_jobs=-1)]: Using backend LokyBackend with 8 concurrent workers.\n",
      "[Parallel(n_jobs=-1)]: Done  20 out of  20 | elapsed:  2.9min finished\n"
     ]
    }
   ],
   "source": [
    "# grid_search_parameters = {\n",
    "#     'max_iters': [1000],\n",
    "#     'learning_rate': [1e-2],\n",
    "#     'activation': [mlrose_hiive.relu],\n",
    "#     'restarts': [1, 5, 10, 20],\n",
    "# }\n",
    "\n",
    "# nnr = NNGSRunner(\n",
    "#     x_train=X_train,\n",
    "#     y_train=y_train,\n",
    "#     x_test=X_test,\n",
    "#     y_test=y_test,\n",
    "#     experiment_name='nn_test_rhc',\n",
    "#     algorithm=mlrose_hiive.algorithms.rhc.random_hill_climb,\n",
    "#     grid_search_parameters=grid_search_parameters,\n",
    "#     iteration_list=[10, 20, 50, 100, 250, 500, 1000],\n",
    "#     hidden_layer_sizes=[[2]],\n",
    "#     bias=True,\n",
    "#     early_stopping=True,\n",
    "#     max_attempts=500,\n",
    "#     n_jobs=-1,\n",
    "#     seed=123,\n",
    "#     output_directory=None\n",
    "# )\n",
    "\n",
    "# run_stats_df, curves_df, cv_results_df, grid_search_cv = nnr.run()"
   ]
  },
  {
   "cell_type": "code",
   "execution_count": 135,
   "metadata": {},
   "outputs": [
    {
     "data": {
      "text/html": [
       "<div>\n",
       "<style scoped>\n",
       "    .dataframe tbody tr th:only-of-type {\n",
       "        vertical-align: middle;\n",
       "    }\n",
       "\n",
       "    .dataframe tbody tr th {\n",
       "        vertical-align: top;\n",
       "    }\n",
       "\n",
       "    .dataframe thead th {\n",
       "        text-align: right;\n",
       "    }\n",
       "</style>\n",
       "<table border=\"1\" class=\"dataframe\">\n",
       "  <thead>\n",
       "    <tr style=\"text-align: right;\">\n",
       "      <th></th>\n",
       "      <th>Iteration</th>\n",
       "      <th>Time</th>\n",
       "      <th>Fitness</th>\n",
       "      <th>max_iters</th>\n",
       "      <th>learning_rate</th>\n",
       "      <th>restarts</th>\n",
       "      <th>init_state</th>\n",
       "      <th>algorithm</th>\n",
       "      <th>activation</th>\n",
       "      <th>bias</th>\n",
       "      <th>early_stopping</th>\n",
       "      <th>clip_max</th>\n",
       "      <th>hidden_layer_sizes</th>\n",
       "      <th>learning_rate_init</th>\n",
       "      <th>max_attempts</th>\n",
       "      <th>current_restart</th>\n",
       "      <th>FEvals</th>\n",
       "    </tr>\n",
       "  </thead>\n",
       "  <tbody>\n",
       "    <tr>\n",
       "      <th>0</th>\n",
       "      <td>0</td>\n",
       "      <td>0.008496</td>\n",
       "      <td>0.700533</td>\n",
       "      <td>1000</td>\n",
       "      <td>0.01</td>\n",
       "      <td>1</td>\n",
       "      <td>[0.3929383711957233, -0.42772133009924107, -0....</td>\n",
       "      <td>rhc</td>\n",
       "      <td>relu</td>\n",
       "      <td>True</td>\n",
       "      <td>True</td>\n",
       "      <td>1.000000e+10</td>\n",
       "      <td>[2]</td>\n",
       "      <td>0.1</td>\n",
       "      <td>500</td>\n",
       "      <td>0</td>\n",
       "      <td>2</td>\n",
       "    </tr>\n",
       "    <tr>\n",
       "      <th>1</th>\n",
       "      <td>1</td>\n",
       "      <td>0.018520</td>\n",
       "      <td>0.700533</td>\n",
       "      <td>1000</td>\n",
       "      <td>0.01</td>\n",
       "      <td>1</td>\n",
       "      <td>[0.3929383711957233, -0.42772133009924107, -0....</td>\n",
       "      <td>rhc</td>\n",
       "      <td>relu</td>\n",
       "      <td>True</td>\n",
       "      <td>True</td>\n",
       "      <td>1.000000e+10</td>\n",
       "      <td>[2]</td>\n",
       "      <td>0.1</td>\n",
       "      <td>500</td>\n",
       "      <td>0</td>\n",
       "      <td>16</td>\n",
       "    </tr>\n",
       "    <tr>\n",
       "      <th>2</th>\n",
       "      <td>2</td>\n",
       "      <td>0.019503</td>\n",
       "      <td>0.700533</td>\n",
       "      <td>1000</td>\n",
       "      <td>0.01</td>\n",
       "      <td>1</td>\n",
       "      <td>[0.3929383711957233, -0.42772133009924107, -0....</td>\n",
       "      <td>rhc</td>\n",
       "      <td>relu</td>\n",
       "      <td>True</td>\n",
       "      <td>True</td>\n",
       "      <td>1.000000e+10</td>\n",
       "      <td>[2]</td>\n",
       "      <td>0.1</td>\n",
       "      <td>500</td>\n",
       "      <td>0</td>\n",
       "      <td>16</td>\n",
       "    </tr>\n",
       "    <tr>\n",
       "      <th>3</th>\n",
       "      <td>3</td>\n",
       "      <td>0.021209</td>\n",
       "      <td>0.700227</td>\n",
       "      <td>1000</td>\n",
       "      <td>0.01</td>\n",
       "      <td>1</td>\n",
       "      <td>[0.3929383711957233, -0.42772133009924107, -0....</td>\n",
       "      <td>rhc</td>\n",
       "      <td>relu</td>\n",
       "      <td>True</td>\n",
       "      <td>True</td>\n",
       "      <td>1.000000e+10</td>\n",
       "      <td>[2]</td>\n",
       "      <td>0.1</td>\n",
       "      <td>500</td>\n",
       "      <td>0</td>\n",
       "      <td>16</td>\n",
       "    </tr>\n",
       "    <tr>\n",
       "      <th>4</th>\n",
       "      <td>4</td>\n",
       "      <td>0.022280</td>\n",
       "      <td>0.700227</td>\n",
       "      <td>1000</td>\n",
       "      <td>0.01</td>\n",
       "      <td>1</td>\n",
       "      <td>[0.3929383711957233, -0.42772133009924107, -0....</td>\n",
       "      <td>rhc</td>\n",
       "      <td>relu</td>\n",
       "      <td>True</td>\n",
       "      <td>True</td>\n",
       "      <td>1.000000e+10</td>\n",
       "      <td>[2]</td>\n",
       "      <td>0.1</td>\n",
       "      <td>500</td>\n",
       "      <td>0</td>\n",
       "      <td>16</td>\n",
       "    </tr>\n",
       "    <tr>\n",
       "      <th>...</th>\n",
       "      <td>...</td>\n",
       "      <td>...</td>\n",
       "      <td>...</td>\n",
       "      <td>...</td>\n",
       "      <td>...</td>\n",
       "      <td>...</td>\n",
       "      <td>...</td>\n",
       "      <td>...</td>\n",
       "      <td>...</td>\n",
       "      <td>...</td>\n",
       "      <td>...</td>\n",
       "      <td>...</td>\n",
       "      <td>...</td>\n",
       "      <td>...</td>\n",
       "      <td>...</td>\n",
       "      <td>...</td>\n",
       "      <td>...</td>\n",
       "    </tr>\n",
       "    <tr>\n",
       "      <th>1996</th>\n",
       "      <td>996</td>\n",
       "      <td>1.478100</td>\n",
       "      <td>0.550953</td>\n",
       "      <td>1000</td>\n",
       "      <td>0.01</td>\n",
       "      <td>1</td>\n",
       "      <td>[0.3929383711957233, -0.42772133009924107, -0....</td>\n",
       "      <td>rhc</td>\n",
       "      <td>relu</td>\n",
       "      <td>True</td>\n",
       "      <td>True</td>\n",
       "      <td>1.000000e+10</td>\n",
       "      <td>[2]</td>\n",
       "      <td>0.1</td>\n",
       "      <td>500</td>\n",
       "      <td>1</td>\n",
       "      <td>2491</td>\n",
       "    </tr>\n",
       "    <tr>\n",
       "      <th>1997</th>\n",
       "      <td>997</td>\n",
       "      <td>1.479175</td>\n",
       "      <td>0.550953</td>\n",
       "      <td>1000</td>\n",
       "      <td>0.01</td>\n",
       "      <td>1</td>\n",
       "      <td>[0.3929383711957233, -0.42772133009924107, -0....</td>\n",
       "      <td>rhc</td>\n",
       "      <td>relu</td>\n",
       "      <td>True</td>\n",
       "      <td>True</td>\n",
       "      <td>1.000000e+10</td>\n",
       "      <td>[2]</td>\n",
       "      <td>0.1</td>\n",
       "      <td>500</td>\n",
       "      <td>1</td>\n",
       "      <td>2491</td>\n",
       "    </tr>\n",
       "    <tr>\n",
       "      <th>1998</th>\n",
       "      <td>998</td>\n",
       "      <td>1.480437</td>\n",
       "      <td>0.550953</td>\n",
       "      <td>1000</td>\n",
       "      <td>0.01</td>\n",
       "      <td>1</td>\n",
       "      <td>[0.3929383711957233, -0.42772133009924107, -0....</td>\n",
       "      <td>rhc</td>\n",
       "      <td>relu</td>\n",
       "      <td>True</td>\n",
       "      <td>True</td>\n",
       "      <td>1.000000e+10</td>\n",
       "      <td>[2]</td>\n",
       "      <td>0.1</td>\n",
       "      <td>500</td>\n",
       "      <td>1</td>\n",
       "      <td>2491</td>\n",
       "    </tr>\n",
       "    <tr>\n",
       "      <th>1999</th>\n",
       "      <td>999</td>\n",
       "      <td>1.481569</td>\n",
       "      <td>0.550953</td>\n",
       "      <td>1000</td>\n",
       "      <td>0.01</td>\n",
       "      <td>1</td>\n",
       "      <td>[0.3929383711957233, -0.42772133009924107, -0....</td>\n",
       "      <td>rhc</td>\n",
       "      <td>relu</td>\n",
       "      <td>True</td>\n",
       "      <td>True</td>\n",
       "      <td>1.000000e+10</td>\n",
       "      <td>[2]</td>\n",
       "      <td>0.1</td>\n",
       "      <td>500</td>\n",
       "      <td>1</td>\n",
       "      <td>2491</td>\n",
       "    </tr>\n",
       "    <tr>\n",
       "      <th>2000</th>\n",
       "      <td>1000</td>\n",
       "      <td>1.482616</td>\n",
       "      <td>0.550953</td>\n",
       "      <td>1000</td>\n",
       "      <td>0.01</td>\n",
       "      <td>1</td>\n",
       "      <td>[0.3929383711957233, -0.42772133009924107, -0....</td>\n",
       "      <td>rhc</td>\n",
       "      <td>relu</td>\n",
       "      <td>True</td>\n",
       "      <td>True</td>\n",
       "      <td>1.000000e+10</td>\n",
       "      <td>[2]</td>\n",
       "      <td>0.1</td>\n",
       "      <td>500</td>\n",
       "      <td>1</td>\n",
       "      <td>2491</td>\n",
       "    </tr>\n",
       "  </tbody>\n",
       "</table>\n",
       "<p>2001 rows × 17 columns</p>\n",
       "</div>"
      ],
      "text/plain": [
       "      Iteration      Time   Fitness  max_iters  learning_rate  restarts  \\\n",
       "0             0  0.008496  0.700533       1000           0.01         1   \n",
       "1             1  0.018520  0.700533       1000           0.01         1   \n",
       "2             2  0.019503  0.700533       1000           0.01         1   \n",
       "3             3  0.021209  0.700227       1000           0.01         1   \n",
       "4             4  0.022280  0.700227       1000           0.01         1   \n",
       "...         ...       ...       ...        ...            ...       ...   \n",
       "1996        996  1.478100  0.550953       1000           0.01         1   \n",
       "1997        997  1.479175  0.550953       1000           0.01         1   \n",
       "1998        998  1.480437  0.550953       1000           0.01         1   \n",
       "1999        999  1.481569  0.550953       1000           0.01         1   \n",
       "2000       1000  1.482616  0.550953       1000           0.01         1   \n",
       "\n",
       "                                             init_state algorithm activation  \\\n",
       "0     [0.3929383711957233, -0.42772133009924107, -0....       rhc       relu   \n",
       "1     [0.3929383711957233, -0.42772133009924107, -0....       rhc       relu   \n",
       "2     [0.3929383711957233, -0.42772133009924107, -0....       rhc       relu   \n",
       "3     [0.3929383711957233, -0.42772133009924107, -0....       rhc       relu   \n",
       "4     [0.3929383711957233, -0.42772133009924107, -0....       rhc       relu   \n",
       "...                                                 ...       ...        ...   \n",
       "1996  [0.3929383711957233, -0.42772133009924107, -0....       rhc       relu   \n",
       "1997  [0.3929383711957233, -0.42772133009924107, -0....       rhc       relu   \n",
       "1998  [0.3929383711957233, -0.42772133009924107, -0....       rhc       relu   \n",
       "1999  [0.3929383711957233, -0.42772133009924107, -0....       rhc       relu   \n",
       "2000  [0.3929383711957233, -0.42772133009924107, -0....       rhc       relu   \n",
       "\n",
       "      bias  early_stopping      clip_max hidden_layer_sizes  \\\n",
       "0     True            True  1.000000e+10                [2]   \n",
       "1     True            True  1.000000e+10                [2]   \n",
       "2     True            True  1.000000e+10                [2]   \n",
       "3     True            True  1.000000e+10                [2]   \n",
       "4     True            True  1.000000e+10                [2]   \n",
       "...    ...             ...           ...                ...   \n",
       "1996  True            True  1.000000e+10                [2]   \n",
       "1997  True            True  1.000000e+10                [2]   \n",
       "1998  True            True  1.000000e+10                [2]   \n",
       "1999  True            True  1.000000e+10                [2]   \n",
       "2000  True            True  1.000000e+10                [2]   \n",
       "\n",
       "      learning_rate_init  max_attempts  current_restart  FEvals  \n",
       "0                    0.1           500                0       2  \n",
       "1                    0.1           500                0      16  \n",
       "2                    0.1           500                0      16  \n",
       "3                    0.1           500                0      16  \n",
       "4                    0.1           500                0      16  \n",
       "...                  ...           ...              ...     ...  \n",
       "1996                 0.1           500                1    2491  \n",
       "1997                 0.1           500                1    2491  \n",
       "1998                 0.1           500                1    2491  \n",
       "1999                 0.1           500                1    2491  \n",
       "2000                 0.1           500                1    2491  \n",
       "\n",
       "[2001 rows x 17 columns]"
      ]
     },
     "execution_count": 135,
     "metadata": {},
     "output_type": "execute_result"
    }
   ],
   "source": [
    "# curves_df"
   ]
  },
  {
   "cell_type": "code",
   "execution_count": null,
   "metadata": {},
   "outputs": [],
   "source": []
  }
 ],
 "metadata": {
  "kernelspec": {
   "display_name": "Python 3",
   "language": "python",
   "name": "python3"
  },
  "language_info": {
   "codemirror_mode": {
    "name": "ipython",
    "version": 3
   },
   "file_extension": ".py",
   "mimetype": "text/x-python",
   "name": "python",
   "nbconvert_exporter": "python",
   "pygments_lexer": "ipython3",
   "version": "3.7.6"
  }
 },
 "nbformat": 4,
 "nbformat_minor": 4
}
