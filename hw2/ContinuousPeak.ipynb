{
 "cells": [
  {
   "cell_type": "code",
   "execution_count": 1,
   "metadata": {},
   "outputs": [
    {
     "name": "stderr",
     "output_type": "stream",
     "text": [
      "/Users/hongzheli/miniconda3/envs/ml/lib/python3.7/site-packages/sklearn/externals/six.py:31: FutureWarning: The module is deprecated in version 0.21 and will be removed in version 0.23 since we've dropped support for Python 2.7. Please rely on the official version of six (https://pypi.org/project/six/).\n",
      "  \"(https://pypi.org/project/six/).\", FutureWarning)\n"
     ]
    }
   ],
   "source": [
    "import mlrose\n",
    "import numpy as np\n",
    "import pandas as pd\n",
    "import matplotlib.pyplot as plt\n",
    "\n",
    "import time\n",
    "\n",
    "\n",
    "from mlrose_hiive import SARunner, GARunner, MIMICRunner, RHCRunner\n",
    "from mlrose_hiive import ContinuousPeaksGenerator\n",
    "%matplotlib inline"
   ]
  },
  {
   "cell_type": "code",
   "execution_count": 2,
   "metadata": {},
   "outputs": [],
   "source": [
    "np.random.seed(123)\n",
    "problem_name = 'CP'\n",
    "# weights_dict = {}\n",
    "# values_dict = {}\n",
    "problem_sizes = [5, 10, 20, 25, 30, 40, 50]\n",
    "# for problem_size in problem_sizes:\n",
    "#     weights_dict[problem_size] = np.random.rand(problem_size)\n",
    "#     values_dict[problem_size] = np.random.rand(problem_size)\n",
    "\n",
    "columns = ['Algorithm', 'Fitness', 'Time', 'Iteration']\n",
    "df_plot = pd.DataFrame(columns = columns)\n",
    "# df_plot2 = pd.DataFrame(columns = ['Fitness', 'Param1', 'Algorithm'])\n",
    "# df_plot3 = pd.DataFrame(columns = ['Fitness', 'Param2', 'Algorithm'])"
   ]
  },
  {
   "cell_type": "markdown",
   "metadata": {},
   "source": [
    "### a classic NP-Hard optimization problem with no polynomial time solution. The strength of MIMIC was highlighted in this context, as it exploited the underlying structure of the problem space that was learned from previous iterations."
   ]
  },
  {
   "cell_type": "markdown",
   "metadata": {},
   "source": [
    "# Step 1. Pick a problem size, do hyperparameter tuning and find the best hyperparameters for all algorithms"
   ]
  },
  {
   "cell_type": "code",
   "execution_count": 3,
   "metadata": {},
   "outputs": [],
   "source": [
    "\n",
    "problem_size = 20\n",
    "\n",
    "# weight = weights_dict[problem_size]\n",
    "# value = values_dict[problem_size]\n",
    "\n",
    "problem = ContinuousPeaksGenerator().generate(seed=123, size=problem_size)"
   ]
  },
  {
   "cell_type": "code",
   "execution_count": 4,
   "metadata": {},
   "outputs": [
    {
     "data": {
      "text/html": [
       "<div>\n",
       "<style scoped>\n",
       "    .dataframe tbody tr th:only-of-type {\n",
       "        vertical-align: middle;\n",
       "    }\n",
       "\n",
       "    .dataframe tbody tr th {\n",
       "        vertical-align: top;\n",
       "    }\n",
       "\n",
       "    .dataframe thead th {\n",
       "        text-align: right;\n",
       "    }\n",
       "</style>\n",
       "<table border=\"1\" class=\"dataframe\">\n",
       "  <thead>\n",
       "    <tr style=\"text-align: right;\">\n",
       "      <th></th>\n",
       "      <th>Iteration</th>\n",
       "      <th>Time</th>\n",
       "      <th>Fitness</th>\n",
       "      <th>Restarts</th>\n",
       "      <th>max_iters</th>\n",
       "      <th>current_restart</th>\n",
       "      <th>FEvals</th>\n",
       "    </tr>\n",
       "  </thead>\n",
       "  <tbody>\n",
       "    <tr>\n",
       "      <th>6814</th>\n",
       "      <td>22</td>\n",
       "      <td>0.023613</td>\n",
       "      <td>37.0</td>\n",
       "      <td>9</td>\n",
       "      <td>128</td>\n",
       "      <td>9</td>\n",
       "      <td>36</td>\n",
       "    </tr>\n",
       "  </tbody>\n",
       "</table>\n",
       "</div>"
      ],
      "text/plain": [
       "      Iteration      Time  Fitness  Restarts  max_iters  current_restart  \\\n",
       "6814         22  0.023613     37.0         9        128                9   \n",
       "\n",
       "      FEvals  \n",
       "6814      36  "
      ]
     },
     "execution_count": 4,
     "metadata": {},
     "output_type": "execute_result"
    }
   ],
   "source": [
    "# Step 1 - define a problem size and tune hyperparameters\n",
    "\n",
    "\n",
    "algorithm = 'RHC'\n",
    "rhc = RHCRunner(problem=problem, \n",
    "                experiment_name='{}_{}'.format(problem_name, algorithm),\n",
    "                output_directory=None, \n",
    "                iteration_list=2**np.arange(8),\n",
    "                restart_list=list(range(1, 20)),\n",
    "                seed=123)\n",
    "df_run_stats, df_run_curves = rhc.run()\n",
    "\n",
    "# fitness vs hyperparameter. \n",
    "df_p1 = df_run_curves.groupby('Restarts').max().reset_index()[['Fitness', 'Restarts']]\n",
    "df_p1.columns = ['Fitness', 'Param1']\n",
    "df_p1['Algorithm'] = algorithm\n",
    "#df_p2 = df_run_curves.groupby('current_restart').max()['Fitness']\n",
    "\n",
    "# find the best fitness\n",
    "best_fitness = df_run_curves['Fitness'].max()\n",
    "best_runs = df_run_curves[df_run_curves['Fitness'] == best_fitness]\n",
    "\n",
    "min_iter = best_runs['Iteration'].min()\n",
    "best_curve_run = best_runs[best_runs['Iteration'] == min_iter]\n",
    "\n",
    "min_eval = best_curve_run['FEvals'].min()\n",
    "best_curve_run = best_curve_run[best_curve_run['FEvals'] == min_eval]\n",
    "best_curve_run = best_curve_run.head(1)\n",
    "best_curve_run\n"
   ]
  },
  {
   "cell_type": "code",
   "execution_count": null,
   "metadata": {},
   "outputs": [],
   "source": []
  },
  {
   "cell_type": "code",
   "execution_count": 5,
   "metadata": {},
   "outputs": [],
   "source": [
    "best_param = best_curve_run.iloc()[0]['current_restart']\n",
    "# map back to the hyperparameter\n",
    "df_result = df_run_curves[df_run_curves['current_restart'] == best_param]\n",
    "df_temp = pd.DataFrame(df_result[['Fitness', 'Time', 'Iteration']], columns=['Fitness', 'Time', 'Iteration'])\n",
    "df_temp['Algorithm'] = algorithm\n",
    "df_plot = pd.concat([df_plot, df_temp])"
   ]
  },
  {
   "cell_type": "code",
   "execution_count": 6,
   "metadata": {},
   "outputs": [
    {
     "data": {
      "text/plain": [
       "9.0"
      ]
     },
     "execution_count": 6,
     "metadata": {},
     "output_type": "execute_result"
    }
   ],
   "source": [
    "best_param"
   ]
  },
  {
   "cell_type": "code",
   "execution_count": 7,
   "metadata": {},
   "outputs": [
    {
     "data": {
      "text/html": [
       "<div>\n",
       "<style scoped>\n",
       "    .dataframe tbody tr th:only-of-type {\n",
       "        vertical-align: middle;\n",
       "    }\n",
       "\n",
       "    .dataframe tbody tr th {\n",
       "        vertical-align: top;\n",
       "    }\n",
       "\n",
       "    .dataframe thead th {\n",
       "        text-align: right;\n",
       "    }\n",
       "</style>\n",
       "<table border=\"1\" class=\"dataframe\">\n",
       "  <thead>\n",
       "    <tr style=\"text-align: right;\">\n",
       "      <th></th>\n",
       "      <th>Iteration</th>\n",
       "      <th>Time</th>\n",
       "      <th>Fitness</th>\n",
       "      <th>Temperature</th>\n",
       "      <th>max_iters</th>\n",
       "      <th>FEvals</th>\n",
       "    </tr>\n",
       "  </thead>\n",
       "  <tbody>\n",
       "    <tr>\n",
       "      <th>102</th>\n",
       "      <td>102</td>\n",
       "      <td>0.033035</td>\n",
       "      <td>36.0</td>\n",
       "      <td>1</td>\n",
       "      <td>128</td>\n",
       "      <td>181</td>\n",
       "    </tr>\n",
       "  </tbody>\n",
       "</table>\n",
       "</div>"
      ],
      "text/plain": [
       "     Iteration      Time  Fitness  Temperature  max_iters  FEvals\n",
       "102        102  0.033035     36.0            1        128     181"
      ]
     },
     "execution_count": 7,
     "metadata": {},
     "output_type": "execute_result"
    }
   ],
   "source": [
    "# Step 1 - define a problem size and tune hyperparameters\n",
    "\n",
    "algorithm = 'SA'\n",
    "\n",
    "sa = SARunner(problem=problem, \n",
    "                experiment_name='{}_{}'.format(problem_name, algorithm),\n",
    "                output_directory=None, \n",
    "                iteration_list=2**np.arange(8),\n",
    "                temperature_list = [1] + list(range(10, 201, 10)),\n",
    "                decay_list = [mlrose.ExpDecay],\n",
    "                seed=123)\n",
    "\n",
    "df_run_stats, df_run_curves = sa.run()\n",
    "\n",
    "df_run_stats['Temperature'] = df_run_stats['Temperature'].apply(lambda x: x.init_temp)\n",
    "df_run_curves['Temperature'] = df_run_curves['Temperature'].apply(lambda x: x.init_temp)\n",
    "\n",
    "\n",
    "# fitness vs hyperparameter. \n",
    "df_p1_temp = df_run_curves.groupby('Temperature').max().reset_index()[['Fitness', 'Temperature']]\n",
    "df_p1_temp.columns = ['Fitness', 'Param1']\n",
    "df_p1_temp['Algorithm'] = algorithm\n",
    "df_p1 = pd.concat([df_p1, df_p1_temp])\n",
    "\n",
    "\n",
    "best_fitness = df_run_curves['Fitness'].max()\n",
    "best_runs = df_run_curves[df_run_curves['Fitness'] == best_fitness]\n",
    "\n",
    "min_iter = best_runs['Iteration'].min()\n",
    "best_curve_run = best_runs[best_runs['Iteration'] == min_iter]\n",
    "\n",
    "min_eval = best_curve_run['FEvals'].min()\n",
    "best_curve_run = best_curve_run[best_curve_run['FEvals'] == min_eval]\n",
    "best_curve_run = best_curve_run.head(1)\n",
    "best_curve_run\n"
   ]
  },
  {
   "cell_type": "code",
   "execution_count": 8,
   "metadata": {},
   "outputs": [],
   "source": [
    "best_param = best_curve_run.iloc()[0]['Temperature']\n",
    "df_result = df_run_curves[df_run_curves['Temperature'] == best_param]\n",
    "\n",
    "df_temp = pd.DataFrame(df_result[['Fitness', 'Time', 'Iteration']], columns=['Fitness', 'Time', 'Iteration'])\n",
    "df_temp['Algorithm'] = algorithm\n",
    "df_plot = pd.concat([df_plot, df_temp])\n",
    "# df_run_curves['Temperature'].apply(lambda x: x.init_temp)"
   ]
  },
  {
   "cell_type": "code",
   "execution_count": 9,
   "metadata": {},
   "outputs": [
    {
     "data": {
      "text/html": [
       "<div>\n",
       "<style scoped>\n",
       "    .dataframe tbody tr th:only-of-type {\n",
       "        vertical-align: middle;\n",
       "    }\n",
       "\n",
       "    .dataframe tbody tr th {\n",
       "        vertical-align: top;\n",
       "    }\n",
       "\n",
       "    .dataframe thead th {\n",
       "        text-align: right;\n",
       "    }\n",
       "</style>\n",
       "<table border=\"1\" class=\"dataframe\">\n",
       "  <thead>\n",
       "    <tr style=\"text-align: right;\">\n",
       "      <th></th>\n",
       "      <th>Algorithm</th>\n",
       "      <th>Fitness</th>\n",
       "      <th>Time</th>\n",
       "      <th>Iteration</th>\n",
       "    </tr>\n",
       "  </thead>\n",
       "  <tbody>\n",
       "    <tr>\n",
       "      <th>6793</th>\n",
       "      <td>RHC</td>\n",
       "      <td>27.0</td>\n",
       "      <td>0.003663</td>\n",
       "      <td>1</td>\n",
       "    </tr>\n",
       "    <tr>\n",
       "      <th>6794</th>\n",
       "      <td>RHC</td>\n",
       "      <td>29.0</td>\n",
       "      <td>0.006594</td>\n",
       "      <td>2</td>\n",
       "    </tr>\n",
       "    <tr>\n",
       "      <th>6795</th>\n",
       "      <td>RHC</td>\n",
       "      <td>29.0</td>\n",
       "      <td>0.010103</td>\n",
       "      <td>3</td>\n",
       "    </tr>\n",
       "    <tr>\n",
       "      <th>6796</th>\n",
       "      <td>RHC</td>\n",
       "      <td>29.0</td>\n",
       "      <td>0.010250</td>\n",
       "      <td>4</td>\n",
       "    </tr>\n",
       "    <tr>\n",
       "      <th>6797</th>\n",
       "      <td>RHC</td>\n",
       "      <td>29.0</td>\n",
       "      <td>0.014073</td>\n",
       "      <td>5</td>\n",
       "    </tr>\n",
       "    <tr>\n",
       "      <th>...</th>\n",
       "      <td>...</td>\n",
       "      <td>...</td>\n",
       "      <td>...</td>\n",
       "      <td>...</td>\n",
       "    </tr>\n",
       "    <tr>\n",
       "      <th>124</th>\n",
       "      <td>SA</td>\n",
       "      <td>36.0</td>\n",
       "      <td>0.035394</td>\n",
       "      <td>124</td>\n",
       "    </tr>\n",
       "    <tr>\n",
       "      <th>125</th>\n",
       "      <td>SA</td>\n",
       "      <td>36.0</td>\n",
       "      <td>0.035476</td>\n",
       "      <td>125</td>\n",
       "    </tr>\n",
       "    <tr>\n",
       "      <th>126</th>\n",
       "      <td>SA</td>\n",
       "      <td>36.0</td>\n",
       "      <td>0.035545</td>\n",
       "      <td>126</td>\n",
       "    </tr>\n",
       "    <tr>\n",
       "      <th>127</th>\n",
       "      <td>SA</td>\n",
       "      <td>36.0</td>\n",
       "      <td>0.035636</td>\n",
       "      <td>127</td>\n",
       "    </tr>\n",
       "    <tr>\n",
       "      <th>128</th>\n",
       "      <td>SA</td>\n",
       "      <td>36.0</td>\n",
       "      <td>0.035726</td>\n",
       "      <td>128</td>\n",
       "    </tr>\n",
       "  </tbody>\n",
       "</table>\n",
       "<p>1537 rows × 4 columns</p>\n",
       "</div>"
      ],
      "text/plain": [
       "     Algorithm  Fitness      Time Iteration\n",
       "6793       RHC     27.0  0.003663         1\n",
       "6794       RHC     29.0  0.006594         2\n",
       "6795       RHC     29.0  0.010103         3\n",
       "6796       RHC     29.0  0.010250         4\n",
       "6797       RHC     29.0  0.014073         5\n",
       "...        ...      ...       ...       ...\n",
       "124         SA     36.0  0.035394       124\n",
       "125         SA     36.0  0.035476       125\n",
       "126         SA     36.0  0.035545       126\n",
       "127         SA     36.0  0.035636       127\n",
       "128         SA     36.0  0.035726       128\n",
       "\n",
       "[1537 rows x 4 columns]"
      ]
     },
     "execution_count": 9,
     "metadata": {},
     "output_type": "execute_result"
    }
   ],
   "source": [
    "df_plot"
   ]
  },
  {
   "cell_type": "code",
   "execution_count": null,
   "metadata": {},
   "outputs": [],
   "source": []
  },
  {
   "cell_type": "code",
   "execution_count": 10,
   "metadata": {},
   "outputs": [
    {
     "data": {
      "text/html": [
       "<div>\n",
       "<style scoped>\n",
       "    .dataframe tbody tr th:only-of-type {\n",
       "        vertical-align: middle;\n",
       "    }\n",
       "\n",
       "    .dataframe tbody tr th {\n",
       "        vertical-align: top;\n",
       "    }\n",
       "\n",
       "    .dataframe thead th {\n",
       "        text-align: right;\n",
       "    }\n",
       "</style>\n",
       "<table border=\"1\" class=\"dataframe\">\n",
       "  <thead>\n",
       "    <tr style=\"text-align: right;\">\n",
       "      <th></th>\n",
       "      <th>Iteration</th>\n",
       "      <th>Time</th>\n",
       "      <th>Fitness</th>\n",
       "      <th>Population Size</th>\n",
       "      <th>Mutation Rate</th>\n",
       "      <th>max_iters</th>\n",
       "      <th>FEvals</th>\n",
       "    </tr>\n",
       "  </thead>\n",
       "  <tbody>\n",
       "    <tr>\n",
       "      <th>7100</th>\n",
       "      <td>5</td>\n",
       "      <td>0.016095</td>\n",
       "      <td>37.0</td>\n",
       "      <td>130</td>\n",
       "      <td>0.2</td>\n",
       "      <td>128</td>\n",
       "      <td>1181</td>\n",
       "    </tr>\n",
       "  </tbody>\n",
       "</table>\n",
       "</div>"
      ],
      "text/plain": [
       "      Iteration      Time  Fitness  Population Size  Mutation Rate  max_iters  \\\n",
       "7100          5  0.016095     37.0              130            0.2        128   \n",
       "\n",
       "      FEvals  \n",
       "7100    1181  "
      ]
     },
     "execution_count": 10,
     "metadata": {},
     "output_type": "execute_result"
    }
   ],
   "source": [
    "# Step 1 - define a problem size and tune hyperparameters\n",
    "\n",
    "algorithm = 'GA'\n",
    "\n",
    "ga = GARunner(problem=problem, \n",
    "                experiment_name='{}_{}'.format(problem_name, algorithm),\n",
    "                output_directory=None, \n",
    "                iteration_list=2**np.arange(8),\n",
    "                population_sizes=list(range(10, 201, 20)),\n",
    "                mutation_rates=np.arange(1,10)/10,\n",
    "                seed=123)\n",
    "\n",
    "df_run_stats, df_run_curves = ga.run()\n",
    "\n",
    "df_p1_temp = df_run_curves.groupby('Population Size').max().reset_index()[['Fitness', 'Population Size']]\n",
    "df_p1_temp.columns = ['Fitness', 'Param1']\n",
    "df_p1_temp['Algorithm'] = algorithm\n",
    "df_p1 = pd.concat([df_p1, df_p1_temp])\n",
    "\n",
    "df_p2 = df_run_curves.groupby('Mutation Rate').max().reset_index()[['Fitness', 'Mutation Rate']]\n",
    "df_p2.columns = ['Fitness', 'Param2']\n",
    "df_p2['Algorithm'] = algorithm\n",
    "\n",
    "best_fitness = df_run_curves['Fitness'].max()\n",
    "best_runs = df_run_curves[df_run_curves['Fitness'] == best_fitness]\n",
    "\n",
    "min_iter = best_runs['Iteration'].min()\n",
    "best_curve_run = best_runs[best_runs['Iteration'] == min_iter]\n",
    "\n",
    "min_eval = best_curve_run['FEvals'].min()\n",
    "best_curve_run = best_curve_run[best_curve_run['FEvals'] == min_eval]\n",
    "best_curve_run = best_curve_run.head(1)\n",
    "best_curve_run\n"
   ]
  },
  {
   "cell_type": "code",
   "execution_count": 11,
   "metadata": {},
   "outputs": [],
   "source": [
    "best_size, best_mutation = best_curve_run.iloc()[0][['Population Size', 'Mutation Rate']].values\n",
    "df_result = df_run_curves[(df_run_curves['Population Size']==best_size) & (df_run_curves['Mutation Rate']==best_mutation)]\n",
    "\n",
    "df_temp = pd.DataFrame(df_result[['Fitness', 'Time', 'Iteration']], columns=['Fitness', 'Time', 'Iteration'])\n",
    "df_temp['Algorithm'] = algorithm\n",
    "df_plot = pd.concat([df_plot, df_temp])\n",
    "# df_run_curves['Temperature'].apply(lambda x: x.init_temp)"
   ]
  },
  {
   "cell_type": "code",
   "execution_count": 12,
   "metadata": {},
   "outputs": [
    {
     "data": {
      "text/html": [
       "<div>\n",
       "<style scoped>\n",
       "    .dataframe tbody tr th:only-of-type {\n",
       "        vertical-align: middle;\n",
       "    }\n",
       "\n",
       "    .dataframe tbody tr th {\n",
       "        vertical-align: top;\n",
       "    }\n",
       "\n",
       "    .dataframe thead th {\n",
       "        text-align: right;\n",
       "    }\n",
       "</style>\n",
       "<table border=\"1\" class=\"dataframe\">\n",
       "  <thead>\n",
       "    <tr style=\"text-align: right;\">\n",
       "      <th></th>\n",
       "      <th>Iteration</th>\n",
       "      <th>Time</th>\n",
       "      <th>Fitness</th>\n",
       "      <th>use_fast_mimic</th>\n",
       "      <th>Population Size</th>\n",
       "      <th>Keep Percent</th>\n",
       "      <th>max_iters</th>\n",
       "      <th>FEvals</th>\n",
       "    </tr>\n",
       "  </thead>\n",
       "  <tbody>\n",
       "    <tr>\n",
       "      <th>10452</th>\n",
       "      <td>3</td>\n",
       "      <td>0.03026</td>\n",
       "      <td>37.0</td>\n",
       "      <td>True</td>\n",
       "      <td>410</td>\n",
       "      <td>0.1</td>\n",
       "      <td>128</td>\n",
       "      <td>2057</td>\n",
       "    </tr>\n",
       "  </tbody>\n",
       "</table>\n",
       "</div>"
      ],
      "text/plain": [
       "       Iteration     Time  Fitness  use_fast_mimic  Population Size  \\\n",
       "10452          3  0.03026     37.0            True              410   \n",
       "\n",
       "       Keep Percent  max_iters  FEvals  \n",
       "10452           0.1        128    2057  "
      ]
     },
     "execution_count": 12,
     "metadata": {},
     "output_type": "execute_result"
    }
   ],
   "source": [
    "# Step 1 - define a problem size and tune hyperparameters\n",
    "\n",
    "algorithm = 'MIMIC'\n",
    "\n",
    "mimic = MIMICRunner(problem=problem, \n",
    "                experiment_name='{}_{}'.format(problem_name, algorithm),\n",
    "                output_directory=None, \n",
    "                iteration_list=2**np.arange(8),\n",
    "                population_sizes=[1] + list(range(10, 501, 50)),\n",
    "                keep_percent_list=np.arange(1,10)/10,\n",
    "                use_fast_mimic=True,\n",
    "                seed=123)\n",
    "\n",
    "df_run_stats, df_run_curves = mimic.run()\n",
    "\n",
    "df_p1_temp = df_run_curves.groupby('Population Size').max().reset_index()[['Fitness', 'Population Size']]\n",
    "df_p1_temp.columns = ['Fitness', 'Param1']\n",
    "df_p1_temp['Algorithm'] = algorithm\n",
    "df_p1 = pd.concat([df_p1, df_p1_temp])\n",
    "\n",
    "df_p2_temp = df_run_curves.groupby('Keep Percent').max().reset_index()[['Fitness', 'Keep Percent']]\n",
    "df_p2_temp.columns = ['Fitness', 'Param2']\n",
    "df_p2_temp['Algorithm'] = algorithm\n",
    "df_p2 = pd.concat([df_p2, df_p2_temp])\n",
    "\n",
    "best_fitness = df_run_curves['Fitness'].max()\n",
    "best_runs = df_run_curves[df_run_curves['Fitness'] == best_fitness]\n",
    "\n",
    "min_iter = best_runs['Iteration'].min()\n",
    "best_curve_run = best_runs[best_runs['Iteration'] == min_iter]\n",
    "\n",
    "min_eval = best_curve_run['FEvals'].min()\n",
    "best_curve_run = best_curve_run[best_curve_run['FEvals'] == min_eval]\n",
    "best_curve_run = best_curve_run.head(1)\n",
    "best_curve_run\n"
   ]
  },
  {
   "cell_type": "code",
   "execution_count": 13,
   "metadata": {},
   "outputs": [],
   "source": [
    "best_size, best_perc = best_curve_run.iloc()[0][['Population Size', 'Keep Percent']].values\n",
    "df_result = df_run_curves[(df_run_curves['Population Size']==best_size) & (df_run_curves['Keep Percent']==best_perc)]\n",
    "\n",
    "df_temp = pd.DataFrame(df_result[['Fitness', 'Time', 'Iteration']], columns=['Fitness', 'Time', 'Iteration'])\n",
    "df_temp['Algorithm'] = algorithm\n",
    "df_plot = pd.concat([df_plot, df_temp])\n",
    "# df_run_curves['Temperature'].apply(lambda x: x.init_temp)"
   ]
  },
  {
   "cell_type": "code",
   "execution_count": 14,
   "metadata": {},
   "outputs": [
    {
     "data": {
      "text/html": [
       "<div>\n",
       "<style scoped>\n",
       "    .dataframe tbody tr th:only-of-type {\n",
       "        vertical-align: middle;\n",
       "    }\n",
       "\n",
       "    .dataframe tbody tr th {\n",
       "        vertical-align: top;\n",
       "    }\n",
       "\n",
       "    .dataframe thead th {\n",
       "        text-align: right;\n",
       "    }\n",
       "</style>\n",
       "<table border=\"1\" class=\"dataframe\">\n",
       "  <thead>\n",
       "    <tr style=\"text-align: right;\">\n",
       "      <th></th>\n",
       "      <th>Fitness</th>\n",
       "      <th>Param2</th>\n",
       "      <th>Algorithm</th>\n",
       "    </tr>\n",
       "  </thead>\n",
       "  <tbody>\n",
       "    <tr>\n",
       "      <th>0</th>\n",
       "      <td>37.0</td>\n",
       "      <td>0.1</td>\n",
       "      <td>GA</td>\n",
       "    </tr>\n",
       "    <tr>\n",
       "      <th>1</th>\n",
       "      <td>37.0</td>\n",
       "      <td>0.2</td>\n",
       "      <td>GA</td>\n",
       "    </tr>\n",
       "    <tr>\n",
       "      <th>2</th>\n",
       "      <td>37.0</td>\n",
       "      <td>0.3</td>\n",
       "      <td>GA</td>\n",
       "    </tr>\n",
       "    <tr>\n",
       "      <th>3</th>\n",
       "      <td>37.0</td>\n",
       "      <td>0.4</td>\n",
       "      <td>GA</td>\n",
       "    </tr>\n",
       "    <tr>\n",
       "      <th>4</th>\n",
       "      <td>37.0</td>\n",
       "      <td>0.5</td>\n",
       "      <td>GA</td>\n",
       "    </tr>\n",
       "    <tr>\n",
       "      <th>5</th>\n",
       "      <td>37.0</td>\n",
       "      <td>0.6</td>\n",
       "      <td>GA</td>\n",
       "    </tr>\n",
       "    <tr>\n",
       "      <th>6</th>\n",
       "      <td>37.0</td>\n",
       "      <td>0.7</td>\n",
       "      <td>GA</td>\n",
       "    </tr>\n",
       "    <tr>\n",
       "      <th>7</th>\n",
       "      <td>37.0</td>\n",
       "      <td>0.8</td>\n",
       "      <td>GA</td>\n",
       "    </tr>\n",
       "    <tr>\n",
       "      <th>8</th>\n",
       "      <td>37.0</td>\n",
       "      <td>0.9</td>\n",
       "      <td>GA</td>\n",
       "    </tr>\n",
       "    <tr>\n",
       "      <th>0</th>\n",
       "      <td>37.0</td>\n",
       "      <td>0.1</td>\n",
       "      <td>MIMIC</td>\n",
       "    </tr>\n",
       "    <tr>\n",
       "      <th>1</th>\n",
       "      <td>37.0</td>\n",
       "      <td>0.2</td>\n",
       "      <td>MIMIC</td>\n",
       "    </tr>\n",
       "    <tr>\n",
       "      <th>2</th>\n",
       "      <td>37.0</td>\n",
       "      <td>0.3</td>\n",
       "      <td>MIMIC</td>\n",
       "    </tr>\n",
       "    <tr>\n",
       "      <th>3</th>\n",
       "      <td>37.0</td>\n",
       "      <td>0.4</td>\n",
       "      <td>MIMIC</td>\n",
       "    </tr>\n",
       "    <tr>\n",
       "      <th>4</th>\n",
       "      <td>36.0</td>\n",
       "      <td>0.5</td>\n",
       "      <td>MIMIC</td>\n",
       "    </tr>\n",
       "    <tr>\n",
       "      <th>5</th>\n",
       "      <td>36.0</td>\n",
       "      <td>0.6</td>\n",
       "      <td>MIMIC</td>\n",
       "    </tr>\n",
       "    <tr>\n",
       "      <th>6</th>\n",
       "      <td>37.0</td>\n",
       "      <td>0.7</td>\n",
       "      <td>MIMIC</td>\n",
       "    </tr>\n",
       "    <tr>\n",
       "      <th>7</th>\n",
       "      <td>37.0</td>\n",
       "      <td>0.8</td>\n",
       "      <td>MIMIC</td>\n",
       "    </tr>\n",
       "    <tr>\n",
       "      <th>8</th>\n",
       "      <td>37.0</td>\n",
       "      <td>0.9</td>\n",
       "      <td>MIMIC</td>\n",
       "    </tr>\n",
       "  </tbody>\n",
       "</table>\n",
       "</div>"
      ],
      "text/plain": [
       "   Fitness  Param2 Algorithm\n",
       "0     37.0     0.1        GA\n",
       "1     37.0     0.2        GA\n",
       "2     37.0     0.3        GA\n",
       "3     37.0     0.4        GA\n",
       "4     37.0     0.5        GA\n",
       "5     37.0     0.6        GA\n",
       "6     37.0     0.7        GA\n",
       "7     37.0     0.8        GA\n",
       "8     37.0     0.9        GA\n",
       "0     37.0     0.1     MIMIC\n",
       "1     37.0     0.2     MIMIC\n",
       "2     37.0     0.3     MIMIC\n",
       "3     37.0     0.4     MIMIC\n",
       "4     36.0     0.5     MIMIC\n",
       "5     36.0     0.6     MIMIC\n",
       "6     37.0     0.7     MIMIC\n",
       "7     37.0     0.8     MIMIC\n",
       "8     37.0     0.9     MIMIC"
      ]
     },
     "execution_count": 14,
     "metadata": {},
     "output_type": "execute_result"
    }
   ],
   "source": [
    "df_p2"
   ]
  },
  {
   "cell_type": "code",
   "execution_count": 15,
   "metadata": {},
   "outputs": [
    {
     "data": {
      "text/html": [
       "<div>\n",
       "<style scoped>\n",
       "    .dataframe tbody tr th:only-of-type {\n",
       "        vertical-align: middle;\n",
       "    }\n",
       "\n",
       "    .dataframe tbody tr th {\n",
       "        vertical-align: top;\n",
       "    }\n",
       "\n",
       "    .dataframe thead th {\n",
       "        text-align: right;\n",
       "    }\n",
       "</style>\n",
       "<table border=\"1\" class=\"dataframe\">\n",
       "  <thead>\n",
       "    <tr style=\"text-align: right;\">\n",
       "      <th></th>\n",
       "      <th>Fitness</th>\n",
       "      <th>Param1</th>\n",
       "      <th>Algorithm</th>\n",
       "    </tr>\n",
       "  </thead>\n",
       "  <tbody>\n",
       "    <tr>\n",
       "      <th>0</th>\n",
       "      <td>37.0</td>\n",
       "      <td>1</td>\n",
       "      <td>RHC</td>\n",
       "    </tr>\n",
       "    <tr>\n",
       "      <th>1</th>\n",
       "      <td>37.0</td>\n",
       "      <td>2</td>\n",
       "      <td>RHC</td>\n",
       "    </tr>\n",
       "    <tr>\n",
       "      <th>2</th>\n",
       "      <td>37.0</td>\n",
       "      <td>3</td>\n",
       "      <td>RHC</td>\n",
       "    </tr>\n",
       "    <tr>\n",
       "      <th>3</th>\n",
       "      <td>37.0</td>\n",
       "      <td>4</td>\n",
       "      <td>RHC</td>\n",
       "    </tr>\n",
       "    <tr>\n",
       "      <th>4</th>\n",
       "      <td>37.0</td>\n",
       "      <td>5</td>\n",
       "      <td>RHC</td>\n",
       "    </tr>\n",
       "    <tr>\n",
       "      <th>...</th>\n",
       "      <td>...</td>\n",
       "      <td>...</td>\n",
       "      <td>...</td>\n",
       "    </tr>\n",
       "    <tr>\n",
       "      <th>6</th>\n",
       "      <td>37.0</td>\n",
       "      <td>260</td>\n",
       "      <td>MIMIC</td>\n",
       "    </tr>\n",
       "    <tr>\n",
       "      <th>7</th>\n",
       "      <td>37.0</td>\n",
       "      <td>310</td>\n",
       "      <td>MIMIC</td>\n",
       "    </tr>\n",
       "    <tr>\n",
       "      <th>8</th>\n",
       "      <td>37.0</td>\n",
       "      <td>360</td>\n",
       "      <td>MIMIC</td>\n",
       "    </tr>\n",
       "    <tr>\n",
       "      <th>9</th>\n",
       "      <td>37.0</td>\n",
       "      <td>410</td>\n",
       "      <td>MIMIC</td>\n",
       "    </tr>\n",
       "    <tr>\n",
       "      <th>10</th>\n",
       "      <td>37.0</td>\n",
       "      <td>460</td>\n",
       "      <td>MIMIC</td>\n",
       "    </tr>\n",
       "  </tbody>\n",
       "</table>\n",
       "<p>61 rows × 3 columns</p>\n",
       "</div>"
      ],
      "text/plain": [
       "    Fitness  Param1 Algorithm\n",
       "0      37.0       1       RHC\n",
       "1      37.0       2       RHC\n",
       "2      37.0       3       RHC\n",
       "3      37.0       4       RHC\n",
       "4      37.0       5       RHC\n",
       "..      ...     ...       ...\n",
       "6      37.0     260     MIMIC\n",
       "7      37.0     310     MIMIC\n",
       "8      37.0     360     MIMIC\n",
       "9      37.0     410     MIMIC\n",
       "10     37.0     460     MIMIC\n",
       "\n",
       "[61 rows x 3 columns]"
      ]
     },
     "execution_count": 15,
     "metadata": {},
     "output_type": "execute_result"
    }
   ],
   "source": [
    "df_p1"
   ]
  },
  {
   "cell_type": "code",
   "execution_count": null,
   "metadata": {},
   "outputs": [],
   "source": []
  },
  {
   "cell_type": "code",
   "execution_count": 16,
   "metadata": {},
   "outputs": [],
   "source": [
    "algorithm_list = list(df_plot['Algorithm'].unique())"
   ]
  },
  {
   "cell_type": "code",
   "execution_count": 17,
   "metadata": {},
   "outputs": [
    {
     "data": {
      "image/png": "[encoded data removed]",
      "text/plain": [
       "<Figure size 720x432 with 1 Axes>"
      ]
     },
     "metadata": {
      "needs_background": "light"
     },
     "output_type": "display_data"
    }
   ],
   "source": [
    "\n",
    "# plot: iter vs fitness\n",
    "plt.figure(figsize=(10,6))\n",
    "\n",
    "for alg in algorithm_list:\n",
    "    df_temp = df_plot[df_plot['Algorithm'] == alg].sort_values(by='Iteration')\n",
    "    x_coord = df_temp['Iteration'].values\n",
    "    y_coord = df_temp['Fitness'].values\n",
    "    plt.plot(x_coord, y_coord, label=alg)\n",
    "plt.legend()\n",
    "plt.xlabel('Iterations')\n",
    "plt.ylabel('Fitness')\n",
    "plt.title('Fitness VS Iterations - {}'.format(problem_name))\n",
    "plt.show()\n"
   ]
  },
  {
   "cell_type": "code",
   "execution_count": null,
   "metadata": {},
   "outputs": [],
   "source": []
  },
  {
   "cell_type": "code",
   "execution_count": 18,
   "metadata": {},
   "outputs": [
    {
     "data": {
      "image/png": "[encoded data removed]",
      "text/plain": [
       "<Figure size 720x432 with 1 Axes>"
      ]
     },
     "metadata": {
      "needs_background": "light"
     },
     "output_type": "display_data"
    }
   ],
   "source": [
    "\n",
    "# plot: iter vs time\n",
    "plt.figure(figsize=(10,6))\n",
    "\n",
    "for alg in algorithm_list:\n",
    "    df_temp = df_plot[df_plot['Algorithm'] == alg].sort_values(by='Iteration')\n",
    "    x_coord = df_temp['Iteration'].values\n",
    "    y_coord = df_temp['Time'].values\n",
    "    plt.plot(x_coord, y_coord, label=alg)\n",
    "plt.legend()\n",
    "plt.yscale('log')\n",
    "plt.xlabel('Iterations')\n",
    "plt.ylabel('Time (log scale)')\n",
    "plt.title('Time (log scale) VS Iterations - {}'.format(problem_name))\n",
    "plt.show()\n"
   ]
  },
  {
   "cell_type": "code",
   "execution_count": 19,
   "metadata": {},
   "outputs": [
    {
     "data": {
      "image/png": "[encoded data removed]",
      "text/plain": [
       "<Figure size 720x432 with 1 Axes>"
      ]
     },
     "metadata": {
      "needs_background": "light"
     },
     "output_type": "display_data"
    },
    {
     "data": {
      "image/png": "[encoded data removed]",
      "text/plain": [
       "<Figure size 720x432 with 1 Axes>"
      ]
     },
     "metadata": {
      "needs_background": "light"
     },
     "output_type": "display_data"
    },
    {
     "data": {
      "image/png": "[encoded data removed]",
      "text/plain": [
       "<Figure size 720x432 with 1 Axes>"
      ]
     },
     "metadata": {
      "needs_background": "light"
     },
     "output_type": "display_data"
    },
    {
     "data": {
      "image/png": "[encoded data removed]",
      "text/plain": [
       "<Figure size 720x432 with 1 Axes>"
      ]
     },
     "metadata": {
      "needs_background": "light"
     },
     "output_type": "display_data"
    }
   ],
   "source": [
    "# plot: hyperparam1 vs fitness\n",
    "param1_dict = {'RHC':'Restarts', 'SA':'Temperature', 'GA':'Population Size', 'MIMIC':'Population Size'}\n",
    "\n",
    "for alg in param1_dict.keys():\n",
    "    plt.figure(figsize=(10,6))\n",
    "    param = param1_dict[alg]\n",
    "    df_temp = df_p1[df_p1['Algorithm'] == alg].sort_values(by='Param1')\n",
    "    x_coord = df_temp['Param1'].values\n",
    "    y_coord = df_temp['Fitness'].values\n",
    "    plt.plot(x_coord, y_coord, label=alg)\n",
    "    plt.legend()\n",
    "    plt.xlabel(param)\n",
    "    plt.ylabel('Fitness')\n",
    "    plt.title('{} Algorithm Fitness VS {} - {}'.format(alg, param, problem_name))\n",
    "    plt.show()\n",
    "\n"
   ]
  },
  {
   "cell_type": "code",
   "execution_count": 20,
   "metadata": {},
   "outputs": [
    {
     "data": {
      "image/png": "[encoded data removed]",
      "text/plain": [
       "<Figure size 432x288 with 1 Axes>"
      ]
     },
     "metadata": {
      "needs_background": "light"
     },
     "output_type": "display_data"
    },
    {
     "data": {
      "image/png": "[encoded data removed]",
      "text/plain": [
       "<Figure size 432x288 with 1 Axes>"
      ]
     },
     "metadata": {
      "needs_background": "light"
     },
     "output_type": "display_data"
    }
   ],
   "source": [
    "# plot: hyperparam2 vs fitness\n",
    "param2_dict = {'GA':'Mutation Rate', 'MIMIC':'Keep Percent'}\n",
    "\n",
    "for alg in param2_dict.keys():\n",
    "    param = param2_dict[alg]\n",
    "    df_temp = df_p2[df_p2['Algorithm'] == alg].sort_values(by='Param2')\n",
    "    x_coord = df_temp['Param2'].values\n",
    "    y_coord = df_temp['Fitness'].values\n",
    "    plt.plot(x_coord, y_coord, label=alg)\n",
    "    plt.legend()\n",
    "    plt.xlabel(param)\n",
    "    plt.ylabel('Fitness')\n",
    "    plt.title('{} Algorithm Fitness VS {} - {}'.format(alg, param, problem_name))\n",
    "    plt.show()\n",
    "\n"
   ]
  },
  {
   "cell_type": "code",
   "execution_count": 21,
   "metadata": {},
   "outputs": [
    {
     "name": "stdout",
     "output_type": "stream",
     "text": [
      "best param for RHC is when Restarts is 19\n",
      "\n",
      "\n",
      "best param for SA is when Temperature is 200\n",
      "\n",
      "\n",
      "best param for GA is when Population Size is 190\n",
      "best param for GA is when Mutation Rate is 0.9\n",
      "\n",
      "\n",
      "best param for MIMIC is when Population Size is 460\n",
      "best param for MIMIC is when Keep Percent is 0.9\n",
      "\n",
      "\n"
     ]
    }
   ],
   "source": [
    "# extract best performing \n",
    "best_param1 = {}\n",
    "best_param2 = {}\n",
    "for alg in algorithm_list:\n",
    "    df_temp = df_p1[df_p1['Algorithm'] == alg]\n",
    "    param1_name = param1_dict[alg]\n",
    "    max_idx = df_temp['Param1'].idxmax()\n",
    "    param1_value = df_temp['Param1'][max_idx]\n",
    "    best_param1[alg] = {param1_name: param1_value}\n",
    "    print('best param for {} is when {} is {}'.format(alg, param1_name, param1_value))\n",
    "    \n",
    "    if alg in ('GA', 'MIMIC'):\n",
    "        df_temp = df_p2[df_p2['Algorithm'] == alg]\n",
    "        param2_name = param2_dict[alg]\n",
    "        max_idx = df_temp['Param2'].idxmax()\n",
    "        param2_value = df_temp['Param2'][max_idx]\n",
    "        best_param2[alg] = {param2_name: param2_value}\n",
    "        print('best param for {} is when {} is {}'.format(alg, param2_name, param2_value))\n",
    "    print('\\n')\n"
   ]
  },
  {
   "cell_type": "markdown",
   "metadata": {},
   "source": [
    "# Step 2. Stick to the hyperparameter from above, do EDA on various problem sizes."
   ]
  },
  {
   "cell_type": "code",
   "execution_count": null,
   "metadata": {},
   "outputs": [],
   "source": [
    "# best_param1 = {'RHC': {'Restarts':100}, 'SA': {'Temperature':200}, 'GA': {'Population Size':190},  'MIMIC': {'Population Size':280}}\n",
    "# best_param2 = {'GA': {'Mutation Rate':0.9},  'MIMIC': {'Keep Percent':0.9}}"
   ]
  },
  {
   "cell_type": "code",
   "execution_count": null,
   "metadata": {},
   "outputs": [],
   "source": []
  },
  {
   "cell_type": "code",
   "execution_count": 22,
   "metadata": {},
   "outputs": [],
   "source": [
    "columns = ['Algorithm', 'Size', 'Fitness', 'Time']\n",
    "df_plot3 = pd.DataFrame(columns=columns)"
   ]
  },
  {
   "cell_type": "code",
   "execution_count": 23,
   "metadata": {},
   "outputs": [],
   "source": [
    "\n",
    "for problem_size in problem_sizes: \n",
    "    problem = ContinuousPeaksGenerator().generate(seed=123, size=problem_size)\n",
    "\n",
    "    # RHC\n",
    "    param1 = int(best_param1['RHC']['Restarts'])\n",
    "    rhc = RHCRunner(problem=problem, \n",
    "                experiment_name='{}_{}'.format(problem_name, algorithm),\n",
    "                    output_directory=None, \n",
    "                   iteration_list=[2**8],\n",
    "                    restart_list=[param1],\n",
    "                    seed=123)\n",
    "    df_run_stats, df_run_curves = rhc.run()\n",
    "    fitness, time = df_run_curves.max()[['Fitness', 'Time']]\n",
    "    df_temp = pd.DataFrame([['RHC', problem_size, fitness, time]], columns=columns)\n",
    "    df_plot3 = pd.concat([df_plot3, df_temp])\n",
    "    \n",
    "    # SA\n",
    "    param1 = int(best_param1['SA']['Temperature'])\n",
    "    sa = SARunner(problem=problem, \n",
    "                experiment_name='{}_{}'.format(problem_name, algorithm),\n",
    "                    output_directory=None, \n",
    "                   iteration_list=[2**8],\n",
    "                    temperature_list=[param1],\n",
    "                    decay_list=[mlrose.ExpDecay],\n",
    "                    seed=123)\n",
    "    df_run_stats, df_run_curves = sa.run()\n",
    "    fitness, time = df_run_curves.max()[['Fitness', 'Time']]\n",
    "    df_temp = pd.DataFrame([['SA', problem_size, fitness, time]], columns=columns)\n",
    "    df_plot3 = pd.concat([df_plot3, df_temp])\n",
    "\n",
    "    # GA\n",
    "    param1 = int(best_param1['GA']['Population Size'])\n",
    "    param2 = float(best_param2['GA']['Mutation Rate'])\n",
    "    ga = GARunner(problem=problem, \n",
    "                experiment_name='{}_{}'.format(problem_name, algorithm),\n",
    "                  output_directory=None, \n",
    "                   iteration_list=[2**8],\n",
    "                  population_sizes=[param1],\n",
    "                  mutation_rates=[param2],\n",
    "                  seed=123)\n",
    "\n",
    "    df_run_stats, df_run_curves = ga.run()\n",
    "    fitness, time = df_run_curves.max()[['Fitness', 'Time']]\n",
    "    df_temp = pd.DataFrame([['GA', problem_size, fitness, time]], columns=columns)\n",
    "    df_plot3 = pd.concat([df_plot3, df_temp])\n",
    "\n",
    "    \n",
    "    # MIMIC\n",
    "    param1 = int(best_param1['MIMIC']['Population Size'])\n",
    "    param2 = float(best_param2['MIMIC']['Keep Percent'])\n",
    "    mimic = MIMICRunner(problem=problem, \n",
    "                experiment_name='{}_{}'.format(problem_name, algorithm),\n",
    "                  output_directory=None, \n",
    "                   iteration_list=[2**8],\n",
    "                  population_sizes=[param1],\n",
    "                  keep_percent_list=[param2],\n",
    "                  seed=123)\n",
    "    df_run_stats, df_run_curves = mimic.run()\n",
    "    fitness, time = df_run_curves.max()[['Fitness', 'Time']]\n",
    "    df_temp = pd.DataFrame([['MIMIC', problem_size, fitness, time]], columns=columns)\n",
    "    df_plot3 = pd.concat([df_plot3, df_temp])"
   ]
  },
  {
   "cell_type": "code",
   "execution_count": null,
   "metadata": {},
   "outputs": [],
   "source": []
  },
  {
   "cell_type": "code",
   "execution_count": 24,
   "metadata": {},
   "outputs": [
    {
     "data": {
      "image/png": "[encoded data removed]",
      "text/plain": [
       "<Figure size 720x432 with 1 Axes>"
      ]
     },
     "metadata": {
      "needs_background": "light"
     },
     "output_type": "display_data"
    }
   ],
   "source": [
    "# plot: problem size vs fitness\n",
    "plt.figure(figsize=(10,6))\n",
    "for alg in algorithm_list:\n",
    "    df_temp = df_plot3[df_plot3['Algorithm'] == alg].sort_values(by='Size')\n",
    "    x_coord = df_temp['Size'].values\n",
    "    y_coord = df_temp['Fitness'].values\n",
    "    plt.plot(x_coord, y_coord, label=alg)\n",
    "plt.legend()\n",
    "plt.xlabel('Size')\n",
    "plt.ylabel('Fitness')\n",
    "plt.title('Problem Size VS Fitness - {}'.format(problem_name))\n",
    "plt.show()\n"
   ]
  },
  {
   "cell_type": "code",
   "execution_count": 25,
   "metadata": {},
   "outputs": [
    {
     "data": {
      "image/png": "[encoded data removed]",
      "text/plain": [
       "<Figure size 720x432 with 1 Axes>"
      ]
     },
     "metadata": {
      "needs_background": "light"
     },
     "output_type": "display_data"
    }
   ],
   "source": [
    "# plot: problem size vs time\n",
    "plt.figure(figsize=(10,6))\n",
    "for alg in algorithm_list:\n",
    "    df_temp = df_plot3[df_plot3['Algorithm'] == alg].sort_values(by='Size')\n",
    "    x_coord = df_temp['Size'].values\n",
    "    y_coord = df_temp['Time'].values\n",
    "    plt.plot(x_coord, y_coord, label=alg)\n",
    "plt.legend()\n",
    "plt.xlabel('Problem Size')\n",
    "plt.ylabel('Time (log scale)')\n",
    "plt.yscale('log')\n",
    "plt.title('Problem Size VS Time (log scale) - {}'.format(problem_name))\n",
    "plt.show()\n"
   ]
  },
  {
   "cell_type": "code",
   "execution_count": null,
   "metadata": {},
   "outputs": [],
   "source": []
  },
  {
   "cell_type": "code",
   "execution_count": null,
   "metadata": {},
   "outputs": [],
   "source": []
  },
  {
   "cell_type": "code",
   "execution_count": null,
   "metadata": {},
   "outputs": [],
   "source": []
  }
 ],
 "metadata": {
  "kernelspec": {
   "display_name": "Python 3",
   "language": "python",
   "name": "python3"
  },
  "language_info": {
   "codemirror_mode": {
    "name": "ipython",
    "version": 3
   },
   "file_extension": ".py",
   "mimetype": "text/x-python",
   "name": "python",
   "nbconvert_exporter": "python",
   "pygments_lexer": "ipython3",
   "version": "3.7.6"
  }
 },
 "nbformat": 4,
 "nbformat_minor": 4
}
